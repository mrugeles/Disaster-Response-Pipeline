{
 "cells": [
  {
   "cell_type": "code",
   "execution_count": 34,
   "metadata": {},
   "outputs": [
    {
     "data": {
      "text/html": [
       "<div>\n",
       "<style scoped>\n",
       "    .dataframe tbody tr th:only-of-type {\n",
       "        vertical-align: middle;\n",
       "    }\n",
       "\n",
       "    .dataframe tbody tr th {\n",
       "        vertical-align: top;\n",
       "    }\n",
       "\n",
       "    .dataframe thead th {\n",
       "        text-align: right;\n",
       "    }\n",
       "</style>\n",
       "<table border=\"1\" class=\"dataframe\">\n",
       "  <thead>\n",
       "    <tr style=\"text-align: right;\">\n",
       "      <th></th>\n",
       "      <th>10</th>\n",
       "      <th>after</th>\n",
       "      <th>and</th>\n",
       "      <th>any</th>\n",
       "      <th>body</th>\n",
       "      <th>call</th>\n",
       "      <th>cannot</th>\n",
       "      <th>country</th>\n",
       "      <th>earthquake</th>\n",
       "      <th>even</th>\n",
       "      <th>...</th>\n",
       "      <th>of</th>\n",
       "      <th>rest</th>\n",
       "      <th>says</th>\n",
       "      <th>side</th>\n",
       "      <th>signal</th>\n",
       "      <th>the</th>\n",
       "      <th>today</th>\n",
       "      <th>tonight</th>\n",
       "      <th>west</th>\n",
       "      <th>when</th>\n",
       "    </tr>\n",
       "  </thead>\n",
       "  <tbody>\n",
       "    <tr>\n",
       "      <td>0</td>\n",
       "      <td>1</td>\n",
       "      <td>1</td>\n",
       "      <td>0</td>\n",
       "      <td>1</td>\n",
       "      <td>1</td>\n",
       "      <td>1</td>\n",
       "      <td>1</td>\n",
       "      <td>0</td>\n",
       "      <td>1</td>\n",
       "      <td>1</td>\n",
       "      <td>...</td>\n",
       "      <td>0</td>\n",
       "      <td>0</td>\n",
       "      <td>0</td>\n",
       "      <td>0</td>\n",
       "      <td>1</td>\n",
       "      <td>1</td>\n",
       "      <td>0</td>\n",
       "      <td>0</td>\n",
       "      <td>0</td>\n",
       "      <td>1</td>\n",
       "    </tr>\n",
       "    <tr>\n",
       "      <td>1</td>\n",
       "      <td>0</td>\n",
       "      <td>0</td>\n",
       "      <td>1</td>\n",
       "      <td>0</td>\n",
       "      <td>0</td>\n",
       "      <td>0</td>\n",
       "      <td>0</td>\n",
       "      <td>1</td>\n",
       "      <td>0</td>\n",
       "      <td>0</td>\n",
       "      <td>...</td>\n",
       "      <td>2</td>\n",
       "      <td>1</td>\n",
       "      <td>1</td>\n",
       "      <td>1</td>\n",
       "      <td>0</td>\n",
       "      <td>1</td>\n",
       "      <td>1</td>\n",
       "      <td>1</td>\n",
       "      <td>1</td>\n",
       "      <td>0</td>\n",
       "    </tr>\n",
       "  </tbody>\n",
       "</table>\n",
       "<p>2 rows × 22 columns</p>\n",
       "</div>"
      ],
      "text/plain": [
       "   10  after  and  any  body  call  cannot  country  earthquake  even  ...  \\\n",
       "0   1      1    0    1     1     1       1        0           1     1  ...   \n",
       "1   0      0    1    0     0     0       0        1           0     0  ...   \n",
       "\n",
       "   of  rest  says  side  signal  the  today  tonight  west  when  \n",
       "0   0     0     0     0       1    1      0        0     0     1  \n",
       "1   2     1     1     1       0    1      1        1     1     0  \n",
       "\n",
       "[2 rows x 22 columns]"
      ]
     },
     "execution_count": 34,
     "metadata": {},
     "output_type": "execute_result"
    }
   ],
   "source": [
    "import pandas as pd\n",
    "from sklearn.feature_extraction.text import CountVectorizer, TfidfTransformer\n",
    "from textblob import TextBlob\n",
    "from scipy.sparse import csr_matrix\n",
    "from nltk.corpus import words\n",
    "\n",
    "english_corpus = set(words.words())\n",
    "\n",
    "data = [\n",
    "    'After the earthquake i cannot call any body. even when i ihave 10 signal',\n",
    "    'says: west side of Haiti, rest of the country today and tonight'\n",
    "    ]\n",
    "\n",
    "text = ['Information about the National Palace-']\n",
    "count_vect = CountVectorizer()\n",
    "count_vect = count_vect.fit(data)\n",
    "\n",
    "vectorized = count_vect.transform(data)\n",
    "\n",
    "matrix = pd.DataFrame(vectorized.toarray(), columns=count_vect.get_feature_names())\n",
    "matrix"
   ]
  },
  {
   "cell_type": "code",
   "execution_count": 35,
   "metadata": {},
   "outputs": [
    {
     "name": "stdout",
     "output_type": "stream",
     "text": [
      "features: 19\n"
     ]
    },
    {
     "data": {
      "text/plain": [
       "TfidfTransformer(norm='l2', smooth_idf=True, sublinear_tf=False, use_idf=True)"
      ]
     },
     "execution_count": 35,
     "metadata": {},
     "output_type": "execute_result"
    }
   ],
   "source": [
    "word_list = list(matrix.columns)\n",
    "word_list = [TextBlob(word).correct().string for word in word_list]\n",
    "matrix.columns = word_list\n",
    "word_list = list(set(word_list).intersection(english_corpus))\n",
    "word_list.sort()\n",
    "matrix = matrix[word_list]\n",
    "matrix = csr_matrix(matrix.values)\n",
    "\n",
    "print(f'features: {len(word_list)}')\n",
    "\n",
    "vector = TfidfTransformer().fit(matrix)\n",
    "vector"
   ]
  },
  {
   "cell_type": "code",
   "execution_count": 37,
   "metadata": {},
   "outputs": [
    {
     "ename": "ValueError",
     "evalue": "Input has n_features=22 while the model has been trained with n_features=19",
     "output_type": "error",
     "traceback": [
      "\u001b[0;31m---------------------------------------------------------------------------\u001b[0m",
      "\u001b[0;31mValueError\u001b[0m                                Traceback (most recent call last)",
      "\u001b[0;32m<ipython-input-37-25e634ca3de8>\u001b[0m in \u001b[0;36m<module>\u001b[0;34m\u001b[0m\n\u001b[1;32m      1\u001b[0m \u001b[0mtext_vectorized\u001b[0m \u001b[0;34m=\u001b[0m \u001b[0mcount_vect\u001b[0m\u001b[0;34m.\u001b[0m\u001b[0mtransform\u001b[0m\u001b[0;34m(\u001b[0m\u001b[0mtext\u001b[0m\u001b[0;34m)\u001b[0m\u001b[0;34m\u001b[0m\u001b[0;34m\u001b[0m\u001b[0m\n\u001b[0;32m----> 2\u001b[0;31m \u001b[0mvector\u001b[0m\u001b[0;34m.\u001b[0m\u001b[0mtransform\u001b[0m\u001b[0;34m(\u001b[0m\u001b[0mtext_vectorized\u001b[0m\u001b[0;34m)\u001b[0m\u001b[0;34m\u001b[0m\u001b[0;34m\u001b[0m\u001b[0m\n\u001b[0m",
      "\u001b[0;32m~/anaconda3/lib/python3.7/site-packages/sklearn/feature_extraction/text.py\u001b[0m in \u001b[0;36mtransform\u001b[0;34m(self, X, copy)\u001b[0m\n\u001b[1;32m   1317\u001b[0m                 raise ValueError(\"Input has n_features=%d while the model\"\n\u001b[1;32m   1318\u001b[0m                                  \" has been trained with n_features=%d\" % (\n\u001b[0;32m-> 1319\u001b[0;31m                                      n_features, expected_n_features))\n\u001b[0m\u001b[1;32m   1320\u001b[0m             \u001b[0;31m# *= doesn't work\u001b[0m\u001b[0;34m\u001b[0m\u001b[0;34m\u001b[0m\u001b[0;34m\u001b[0m\u001b[0m\n\u001b[1;32m   1321\u001b[0m             \u001b[0mX\u001b[0m \u001b[0;34m=\u001b[0m \u001b[0mX\u001b[0m \u001b[0;34m*\u001b[0m \u001b[0mself\u001b[0m\u001b[0;34m.\u001b[0m\u001b[0m_idf_diag\u001b[0m\u001b[0;34m\u001b[0m\u001b[0;34m\u001b[0m\u001b[0m\n",
      "\u001b[0;31mValueError\u001b[0m: Input has n_features=22 while the model has been trained with n_features=19"
     ]
    }
   ],
   "source": [
    "text_vectorized = count_vect.transform(text)\n",
    "vector.transform(text_vectorized)"
   ]
  }
 ],
 "metadata": {
  "kernelspec": {
   "display_name": "Python 3",
   "language": "python",
   "name": "python3"
  },
  "language_info": {
   "codemirror_mode": {
    "name": "ipython",
    "version": 3
   },
   "file_extension": ".py",
   "mimetype": "text/x-python",
   "name": "python",
   "nbconvert_exporter": "python",
   "pygments_lexer": "ipython3",
   "version": "3.7.4"
  }
 },
 "nbformat": 4,
 "nbformat_minor": 2
}
