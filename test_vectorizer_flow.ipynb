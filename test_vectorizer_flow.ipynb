{
 "cells": [
  {
   "cell_type": "code",
   "execution_count": 1,
   "metadata": {},
   "outputs": [
    {
     "name": "stderr",
     "output_type": "stream",
     "text": [
      "[nltk_data] Downloading package words to /home/mrugeles/nltk_data...\n",
      "[nltk_data]   Package words is already up-to-date!\n",
      "[nltk_data] Downloading package punkt to /home/mrugeles/nltk_data...\n",
      "[nltk_data]   Package punkt is already up-to-date!\n",
      "[nltk_data] Downloading package stopwords to\n",
      "[nltk_data]     /home/mrugeles/nltk_data...\n",
      "[nltk_data]   Package stopwords is already up-to-date!\n",
      "[nltk_data] Downloading package wordnet to /home/mrugeles/nltk_data...\n",
      "[nltk_data]   Package wordnet is already up-to-date!\n"
     ]
    }
   ],
   "source": [
    "from time import time\n",
    "\n",
    "import nltk\n",
    "nltk.download('words')\n",
    "\n",
    "import pandas as pd\n",
    "import numpy as np\n",
    "\n",
    "from nltk.tokenize import sent_tokenize\n",
    "from nltk.tokenize import word_tokenize\n",
    "\n",
    "from sklearn.svm import LinearSVC\n",
    "from sklearn.naive_bayes import MultinomialNB\n",
    "from sklearn.model_selection import train_test_split\n",
    "from sklearn.multioutput import MultiOutputClassifier\n",
    "from sklearn.ensemble import RandomForestClassifier\n",
    "\n",
    "from data_utils import DataUtils\n",
    "from model_utils import ModelUtils\n",
    "from nlp_utils import NLPUtils"
   ]
  },
  {
   "cell_type": "code",
   "execution_count": 2,
   "metadata": {},
   "outputs": [],
   "source": [
    "modelUtils = ModelUtils()\n",
    "dataUtils = DataUtils()\n",
    "nlpUtils = NLPUtils()\n"
   ]
  },
  {
   "cell_type": "code",
   "execution_count": 3,
   "metadata": {},
   "outputs": [
    {
     "name": "stdout",
     "output_type": "stream",
     "text": [
      "sqlite:///data/DisasterResponse.db\n"
     ]
    }
   ],
   "source": [
    "X, Y, category_names = dataUtils.load_db_data('data/DisasterResponse.db')"
   ]
  },
  {
   "cell_type": "code",
   "execution_count": 4,
   "metadata": {},
   "outputs": [
    {
     "name": "stdout",
     "output_type": "stream",
     "text": [
      "TfidfTransformer features: (10000, 17230)\n",
      "CPU times: user 1min 1s, sys: 1min 40s, total: 2min 42s\n",
      "Wall time: 2min 42s\n"
     ]
    }
   ],
   "source": [
    "%time X = nlpUtils.create_vector_model(X)"
   ]
  },
  {
   "cell_type": "code",
   "execution_count": 5,
   "metadata": {},
   "outputs": [],
   "source": [
    "from tqdm import tqdm\n",
    "from textblob import Word\n",
    "\n",
    "def spellcheck(word, threshold):\n",
    "    value = Word(word).spellcheck()[0]\n",
    "    if (value[1] < threshold):\n",
    "        return f'-1'\n",
    "    return value[0]\n",
    "    \n",
    "def clean_count_vector(matrix):\n",
    "    start = time()\n",
    "    columns_df = pd.DataFrame(list(matrix.columns), columns = ['feature'])\n",
    "    columns_df['feature_spellcheck'] = columns_df['feature'].progress_apply(lambda word: spellcheck(word, 0.7))\n",
    "    print(f'feature_spellcheck time: {time() - start}')\n",
    "\n",
    "    start = time()\n",
    "    drop_columns = columns_df.loc[columns_df['feature_spellcheck'] == \"-1\"]['feature'].values\n",
    "    matrix = matrix.drop(drop_columns, axis = 1)\n",
    "    print(f'drop_columns time: {time() - start}')\n",
    "\n",
    "\n",
    "    start = time()\n",
    "    renamed_columns = dict(columns_df.loc[columns_df['feature_spellcheck'] != \"-1\"].to_dict('split')['data'])\n",
    "    matrix = matrix.rename(columns = renamed_columns)\n",
    "    print(f'renamed_columns time: {time() - start}')\n",
    "\n",
    "    start = time()\n",
    "    for column in tqdm(matrix.columns[matrix.columns.duplicated()]):\n",
    "        matrix[f'{column}_duplicated'] = matrix[column].groupby(level = 0, axis = 1).sum()\n",
    "        matrix[f'{column}_duplicated'] = matrix[f'{column}_duplicated'].apply(lambda n: 1 if n > 1 else n)\n",
    "\n",
    "    matrix = matrix.drop(matrix.columns[matrix.columns.duplicated()], axis = 1)\n",
    "\n",
    "    matrix.rename(columns=lambda x: x.replace('_duplicated', ''), inplace=True)\n",
    "    print(f'remove duplicated columns time: {time() - start}')\n",
    "\n",
    "    return csr_matrix(matrix.values)"
   ]
  },
  {
   "cell_type": "code",
   "execution_count": null,
   "metadata": {},
   "outputs": [
    {
     "name": "stderr",
     "output_type": "stream",
     "text": [
      "/home/mrugeles/anaconda3/lib/python3.7/site-packages/tqdm/std.py:648: FutureWarning: The Panel class is removed from pandas. Accessing it from the top-level namespace will also be removed in the next version\n",
      "  from pandas import Panel\n",
      "feature_spellcheck:  55%|█████▌    | 9502/17230 [12:04<14:36,  8.82it/s]  "
     ]
    }
   ],
   "source": [
    "tqdm.pandas(desc=\"feature_spellcheck\")\n",
    "\n",
    "X = clean_count_vector(X)"
   ]
  }
 ],
 "metadata": {
  "kernelspec": {
   "display_name": "Python 3",
   "language": "python",
   "name": "python3"
  },
  "language_info": {
   "codemirror_mode": {
    "name": "ipython",
    "version": 3
   },
   "file_extension": ".py",
   "mimetype": "text/x-python",
   "name": "python",
   "nbconvert_exporter": "python",
   "pygments_lexer": "ipython3",
   "version": "3.7.4"
  }
 },
 "nbformat": 4,
 "nbformat_minor": 2
}
