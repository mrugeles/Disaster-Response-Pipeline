{
 "cells": [
  {
   "cell_type": "code",
   "execution_count": 1,
   "metadata": {},
   "outputs": [
    {
     "name": "stderr",
     "output_type": "stream",
     "text": [
      "[nltk_data] Downloading package words to /home/mrugeles/nltk_data...\n",
      "[nltk_data]   Package words is already up-to-date!\n",
      "[nltk_data] Downloading package punkt to /home/mrugeles/nltk_data...\n",
      "[nltk_data]   Package punkt is already up-to-date!\n",
      "[nltk_data] Downloading package stopwords to\n",
      "[nltk_data]     /home/mrugeles/nltk_data...\n",
      "[nltk_data]   Package stopwords is already up-to-date!\n",
      "[nltk_data] Downloading package wordnet to /home/mrugeles/nltk_data...\n",
      "[nltk_data]   Package wordnet is already up-to-date!\n"
     ]
    },
    {
     "data": {
      "text/html": [
       "<div>\n",
       "<style scoped>\n",
       "    .dataframe tbody tr th:only-of-type {\n",
       "        vertical-align: middle;\n",
       "    }\n",
       "\n",
       "    .dataframe tbody tr th {\n",
       "        vertical-align: top;\n",
       "    }\n",
       "\n",
       "    .dataframe thead th {\n",
       "        text-align: right;\n",
       "    }\n",
       "</style>\n",
       "<table border=\"1\" class=\"dataframe\">\n",
       "  <thead>\n",
       "    <tr style=\"text-align: right;\">\n",
       "      <th></th>\n",
       "      <th>id</th>\n",
       "      <th>message</th>\n",
       "      <th>original</th>\n",
       "      <th>genre</th>\n",
       "    </tr>\n",
       "  </thead>\n",
       "  <tbody>\n",
       "    <tr>\n",
       "      <td>0</td>\n",
       "      <td>2</td>\n",
       "      <td>Weather update - a cold front from Cuba that c...</td>\n",
       "      <td>Un front froid se retrouve sur Cuba ce matin. ...</td>\n",
       "      <td>direct</td>\n",
       "    </tr>\n",
       "    <tr>\n",
       "      <td>1</td>\n",
       "      <td>7</td>\n",
       "      <td>Is the Hurricane over or is it not over</td>\n",
       "      <td>Cyclone nan fini osinon li pa fini</td>\n",
       "      <td>direct</td>\n",
       "    </tr>\n",
       "    <tr>\n",
       "      <td>2</td>\n",
       "      <td>8</td>\n",
       "      <td>Looking for someone but no name</td>\n",
       "      <td>Patnm, di Maryani relem pou li banm nouvel li ...</td>\n",
       "      <td>direct</td>\n",
       "    </tr>\n",
       "    <tr>\n",
       "      <td>3</td>\n",
       "      <td>9</td>\n",
       "      <td>UN reports Leogane 80-90 destroyed. Only Hospi...</td>\n",
       "      <td>UN reports Leogane 80-90 destroyed. Only Hospi...</td>\n",
       "      <td>direct</td>\n",
       "    </tr>\n",
       "    <tr>\n",
       "      <td>4</td>\n",
       "      <td>12</td>\n",
       "      <td>says: west side of Haiti, rest of the country ...</td>\n",
       "      <td>facade ouest d Haiti et le reste du pays aujou...</td>\n",
       "      <td>direct</td>\n",
       "    </tr>\n",
       "  </tbody>\n",
       "</table>\n",
       "</div>"
      ],
      "text/plain": [
       "   id                                            message  \\\n",
       "0   2  Weather update - a cold front from Cuba that c...   \n",
       "1   7            Is the Hurricane over or is it not over   \n",
       "2   8                    Looking for someone but no name   \n",
       "3   9  UN reports Leogane 80-90 destroyed. Only Hospi...   \n",
       "4  12  says: west side of Haiti, rest of the country ...   \n",
       "\n",
       "                                            original   genre  \n",
       "0  Un front froid se retrouve sur Cuba ce matin. ...  direct  \n",
       "1                 Cyclone nan fini osinon li pa fini  direct  \n",
       "2  Patnm, di Maryani relem pou li banm nouvel li ...  direct  \n",
       "3  UN reports Leogane 80-90 destroyed. Only Hospi...  direct  \n",
       "4  facade ouest d Haiti et le reste du pays aujou...  direct  "
      ]
     },
     "execution_count": 1,
     "metadata": {},
     "output_type": "execute_result"
    }
   ],
   "source": [
    "import re\n",
    "import numpy as np\n",
    "import pandas as pd\n",
    "\n",
    "\n",
    "import nltk\n",
    "from nltk.corpus import words\n",
    "\n",
    "\n",
    "nltk.download('words')\n",
    "from sklearn.feature_extraction.text import CountVectorizer\n",
    "\n",
    "from data_utils import DataUtils\n",
    "from nlp_utils import NLPUtils\n",
    "\n",
    "dataUtils = DataUtils()\n",
    "nlpUtils = NLPUtils()\n",
    "\n",
    "dataset = pd.read_csv('data/disaster_messages.csv')\n",
    "\n",
    "dataset.head()"
   ]
  },
  {
   "cell_type": "code",
   "execution_count": 2,
   "metadata": {},
   "outputs": [
    {
     "data": {
      "text/html": [
       "<div>\n",
       "<style scoped>\n",
       "    .dataframe tbody tr th:only-of-type {\n",
       "        vertical-align: middle;\n",
       "    }\n",
       "\n",
       "    .dataframe tbody tr th {\n",
       "        vertical-align: top;\n",
       "    }\n",
       "\n",
       "    .dataframe thead th {\n",
       "        text-align: right;\n",
       "    }\n",
       "</style>\n",
       "<table border=\"1\" class=\"dataframe\">\n",
       "  <thead>\n",
       "    <tr style=\"text-align: right;\">\n",
       "      <th></th>\n",
       "      <th>car</th>\n",
       "      <th>house</th>\n",
       "      <th>red</th>\n",
       "      <th>white</th>\n",
       "    </tr>\n",
       "  </thead>\n",
       "  <tbody>\n",
       "    <tr>\n",
       "      <td>0</td>\n",
       "      <td>0</td>\n",
       "      <td>1</td>\n",
       "      <td>0</td>\n",
       "      <td>1</td>\n",
       "    </tr>\n",
       "    <tr>\n",
       "      <td>1</td>\n",
       "      <td>1</td>\n",
       "      <td>0</td>\n",
       "      <td>1</td>\n",
       "      <td>0</td>\n",
       "    </tr>\n",
       "  </tbody>\n",
       "</table>\n",
       "</div>"
      ],
      "text/plain": [
       "   car  house  red  white\n",
       "0    0      1    0      1\n",
       "1    1      0    1      0"
      ]
     },
     "execution_count": 2,
     "metadata": {},
     "output_type": "execute_result"
    }
   ],
   "source": [
    "# Top words\n",
    "def get_matrix(data):\n",
    "    count_vect = CountVectorizer(tokenizer=nlpUtils.tokenize)\n",
    "    vectorized = count_vect.fit_transform(data)\n",
    "    return pd.DataFrame(vectorized.toarray(), columns=count_vect.get_feature_names())\n",
    "\n",
    "\n",
    "data = [\n",
    "    'The house is white',\n",
    "    'My car is red'\n",
    "]\n",
    "\n",
    "matrix = get_matrix(data)\n",
    "\n",
    "matrix"
   ]
  },
  {
   "cell_type": "code",
   "execution_count": 3,
   "metadata": {
    "scrolled": false
   },
   "outputs": [
    {
     "data": {
      "text/html": [
       "<div>\n",
       "<style scoped>\n",
       "    .dataframe tbody tr th:only-of-type {\n",
       "        vertical-align: middle;\n",
       "    }\n",
       "\n",
       "    .dataframe tbody tr th {\n",
       "        vertical-align: top;\n",
       "    }\n",
       "\n",
       "    .dataframe thead th {\n",
       "        text-align: right;\n",
       "    }\n",
       "</style>\n",
       "<table border=\"1\" class=\"dataframe\">\n",
       "  <thead>\n",
       "    <tr style=\"text-align: right;\">\n",
       "      <th></th>\n",
       "      <th>blue</th>\n",
       "      <th>house</th>\n",
       "    </tr>\n",
       "  </thead>\n",
       "  <tbody>\n",
       "    <tr>\n",
       "      <td>0</td>\n",
       "      <td>1</td>\n",
       "      <td>1</td>\n",
       "    </tr>\n",
       "  </tbody>\n",
       "</table>\n",
       "</div>"
      ],
      "text/plain": [
       "   blue  house\n",
       "0     1      1"
      ]
     },
     "execution_count": 3,
     "metadata": {},
     "output_type": "execute_result"
    }
   ],
   "source": [
    "query = ['I have a blue house']\n",
    "\n",
    "matrix_query = get_matrix(query)\n",
    "matrix_query"
   ]
  },
  {
   "cell_type": "code",
   "execution_count": 5,
   "metadata": {},
   "outputs": [
    {
     "name": "stdout",
     "output_type": "stream",
     "text": [
      "count vector features: 4\n",
      "matrix.shape: (2, 4)\n",
      "TfidfTransformer features: (2, 4)\n",
      "Vectorizing time: 0.043463945388793945\n"
     ]
    },
    {
     "data": {
      "text/plain": [
       "(2, 4)"
      ]
     },
     "execution_count": 5,
     "metadata": {},
     "output_type": "execute_result"
    }
   ],
   "source": [
    "from data_utils import DataUtils\n",
    "from model_utils import ModelUtils\n",
    "from nlp_utils import NLPUtils\n",
    "\n",
    "X = [\n",
    "    'The house is white',\n",
    "    'My car is red'\n",
    "]\n",
    "\n",
    "X = nlpUtils.create_vector_model(X, 'count_vectorizer.p')\n",
    "X.toarray().shape"
   ]
  },
  {
   "cell_type": "code",
   "execution_count": 7,
   "metadata": {},
   "outputs": [
    {
     "data": {
      "text/html": [
       "<div>\n",
       "<style scoped>\n",
       "    .dataframe tbody tr th:only-of-type {\n",
       "        vertical-align: middle;\n",
       "    }\n",
       "\n",
       "    .dataframe tbody tr th {\n",
       "        vertical-align: top;\n",
       "    }\n",
       "\n",
       "    .dataframe thead th {\n",
       "        text-align: right;\n",
       "    }\n",
       "</style>\n",
       "<table border=\"1\" class=\"dataframe\">\n",
       "  <thead>\n",
       "    <tr style=\"text-align: right;\">\n",
       "      <th></th>\n",
       "      <th>feature</th>\n",
       "    </tr>\n",
       "  </thead>\n",
       "  <tbody>\n",
       "  </tbody>\n",
       "</table>\n",
       "</div>"
      ],
      "text/plain": [
       "Empty DataFrame\n",
       "Columns: [feature]\n",
       "Index: []"
      ]
     },
     "metadata": {},
     "output_type": "display_data"
    },
    {
     "data": {
      "text/html": [
       "<div>\n",
       "<style scoped>\n",
       "    .dataframe tbody tr th:only-of-type {\n",
       "        vertical-align: middle;\n",
       "    }\n",
       "\n",
       "    .dataframe tbody tr th {\n",
       "        vertical-align: top;\n",
       "    }\n",
       "\n",
       "    .dataframe thead th {\n",
       "        text-align: right;\n",
       "    }\n",
       "</style>\n",
       "<table border=\"1\" class=\"dataframe\">\n",
       "  <thead>\n",
       "    <tr style=\"text-align: right;\">\n",
       "      <th></th>\n",
       "      <th>feature</th>\n",
       "    </tr>\n",
       "  </thead>\n",
       "  <tbody>\n",
       "    <tr>\n",
       "      <td>0</td>\n",
       "      <td>car</td>\n",
       "    </tr>\n",
       "    <tr>\n",
       "      <td>1</td>\n",
       "      <td>house</td>\n",
       "    </tr>\n",
       "    <tr>\n",
       "      <td>2</td>\n",
       "      <td>red</td>\n",
       "    </tr>\n",
       "    <tr>\n",
       "      <td>3</td>\n",
       "      <td>white</td>\n",
       "    </tr>\n",
       "  </tbody>\n",
       "</table>\n",
       "</div>"
      ],
      "text/plain": [
       "  feature\n",
       "0     car\n",
       "1   house\n",
       "2     red\n",
       "3   white"
      ]
     },
     "execution_count": 7,
     "metadata": {},
     "output_type": "execute_result"
    }
   ],
   "source": [
    "model_features = pd.read_csv('model_features.csv')\n",
    "display(model_features.loc[model_features['feature'].isna()])\n",
    "model_features"
   ]
  },
  {
   "cell_type": "code",
   "execution_count": 12,
   "metadata": {},
   "outputs": [
    {
     "data": {
      "text/html": [
       "<div>\n",
       "<style scoped>\n",
       "    .dataframe tbody tr th:only-of-type {\n",
       "        vertical-align: middle;\n",
       "    }\n",
       "\n",
       "    .dataframe tbody tr th {\n",
       "        vertical-align: top;\n",
       "    }\n",
       "\n",
       "    .dataframe thead th {\n",
       "        text-align: right;\n",
       "    }\n",
       "</style>\n",
       "<table border=\"1\" class=\"dataframe\">\n",
       "  <thead>\n",
       "    <tr style=\"text-align: right;\">\n",
       "      <th></th>\n",
       "      <th>blue</th>\n",
       "      <th>house</th>\n",
       "    </tr>\n",
       "  </thead>\n",
       "  <tbody>\n",
       "    <tr>\n",
       "      <td>0</td>\n",
       "      <td>1</td>\n",
       "      <td>1</td>\n",
       "    </tr>\n",
       "  </tbody>\n",
       "</table>\n",
       "</div>"
      ],
      "text/plain": [
       "   blue  house\n",
       "0     1      1"
      ]
     },
     "metadata": {},
     "output_type": "display_data"
    },
    {
     "name": "stdout",
     "output_type": "stream",
     "text": [
      "CPU times: user 0 ns, sys: 0 ns, total: 0 ns\n",
      "Wall time: 9.31 ms\n"
     ]
    }
   ],
   "source": [
    "import pickle\n",
    "from textblob import TextBlob\n",
    "from scipy.sparse import csr_matrix\n",
    "\n",
    "\n",
    "query = 'I have a blue house'\n",
    "\n",
    "def vectorize_query(query):\n",
    "    query = TextBlob(query).correct().string\n",
    "    matrix_query = get_matrix([query])\n",
    "    model_features = list(pd.read_csv('model_features.csv')['feature'].values)\n",
    "\n",
    "\n",
    "    add_features = list(set(model_features).difference(set(matrix_query.columns)))\n",
    "    remove_features = list(set(matrix_query.columns).difference(set(model_features)))\n",
    "\n",
    "    n_features = len(add_features)\n",
    "    n_rows = matrix_query.shape[0]\n",
    "\n",
    "    display(matrix_query)\n",
    "    matrix_query = matrix_query.drop(remove_features, axis = 1)\n",
    "    matrix_query[add_features] = pd.DataFrame(np.zeros((n_rows, n_features), dtype = int), columns = add_features)\n",
    "    \n",
    "    features = np.array(matrix_query.columns, dtype=str)\n",
    "    \n",
    "    features.sort()\n",
    "\n",
    "    matrix_query = matrix_query[features]\n",
    "    \n",
    "    matrix_query = csr_matrix(matrix_query.values)\n",
    "    vectorizer = pickle.load( open( 'count_vectorizer.p', \"rb\" ) )\n",
    "    \n",
    "    return vectorizer.transform(matrix_query)\n",
    "    \n",
    "%time query_vector = vectorize_query(query)"
   ]
  },
  {
   "cell_type": "code",
   "execution_count": null,
   "metadata": {},
   "outputs": [],
   "source": [
    "set1 = set({'blue', 'car', 'house', 'country', 'document'})\n",
    "set2 = set({'blue', 'river'})\n",
    "print(set1.difference(set2))\n",
    "print(set2.difference(set1))\n"
   ]
  },
  {
   "cell_type": "code",
   "execution_count": 13,
   "metadata": {},
   "outputs": [],
   "source": [
    "model_features = {'come', 'level', 'diameter', 'mortar', 'record', 'cry', 'start', 'set', 'case', 'south', 'in', 'rout', 'tail', 'hungry', 'addition', 'mamma', 'salute', 'seasonal', 'link', 'spore', 'clean', 'sing', 'pop', 'facility', 'later', 'resistance', 'acute', 'large', 'governorate', 'of', 'life', 'cause', 'heavy', 'prevent', 'project', 'men', 'para', 'impact', 'daily', 'arm', 'metal', 'own', 'act', 'per', 'also', 'unit', 'algebra', 'privately', 'long', 'crop', 'amount', 'provide', 'productivity', 'another', 'country', 'often', 'association', 'la', 'soon', 'undertake', 'an', 'dis', 'detail', 'use', 'delay', 'fish', 'truncated', 'forget', 'hair', 'distribute', 'keep', 'lose', 'southwest', 'disrupt', 'field', 'ruby', 'household', 'station', 'remain', 'approximately', 'receive', 'ha', 'entire', 'detain', 'sorghum', 'medius', 'eradication', 'national', 'accept', 'bitch', 'bower', 'smell', 'news', 'age', 'possibly', 'type', 'part', 'mobility', 'maintenance', 'strength', 'damage', 'month', 'army', 'surge', 'no', 'able', 'leishmaniasis', 'global', 'tropical', 'vassal', 'road', 'invite', 'potential', 'replace', 'cash', 'float', 'hour', 'political', 'two', 'donate', 'happy', 'north', 'white', 'worry', 'prevention', 'rehydration', 'morning', 'accompany', 'de', 'song', 'relief', 'mission', 'clinically', 'share', 'maturity', 'bridge', 'predict', 'train', 'crisis', 'carry', 'order', 'specially', 'collapse', 'cell', 'pass', 'want', 'justice', 'family', 'thirsty', 'average', 'torrential', 'anyone', 'snub', 'survive', 'war', 'office', 'border', 'kit', 'people', 'chair', 'incident', 'seventh', 'grenade', 'well', 'consider', 'point', 'heart', 'health', 'information', 'naturally', 'rep', 'hospital', 'protect', 'market', 'vagina', 'eastern', 'civilian', 'ing', 'international', 'saw', 'parliamentary', 'breed', 'speed', 'disease', 'thunderstorm', 'city', 'premier', 'medial', 'briefly', 'cow', 'outbreak', 'alive', 'section', 'chain', 'county', 'day', 'home', 'look', 'harvest', 'ache', 'agency', 'easily', 'death', 'digital', 'terrible', 'catastrophe', 'farm', 'care', 'considerably', 'roof', 'log', 'coast', 'folio', 'nothing', 'hazardous', 'galvanic', 'hay', 'observe', 'reportedly', 'mozambique', 'treat', 'inactive', 'fast', 'plan', 'pad', 'extreme', 'work', 'ginger', 'demonstrate', 'climate', 'take', 'tank', 'th', 'sustain', 'production', 'blanket', 'vaccine', 'dark', 'essential', 'berg', 'rash', 'put', 'rust', 'lone', 'role', 'phone', 'hand', 'length', 'across', 'government', 'chin', 'neither', 'make', 'problem', 'un', 'man', 'prince', 'recovery', 'vice', 'busy', 'china', 'federation', 'seed', 'as', 'editor', 'minimize', 'hate', 'sponsor', 'mother', 'mutiny', 'comfort', 'create', 'commune', 'wound', 'underground', 'price', 'word', 'furniture', 'pain', 'leg', 'bird', 'destroy', 'drug', 'crowd', 'i', 'express', 'contain', 'mine', 'labour', 'seedless', 'etiology', 'scheme', 'design', 'millions', 'afternoon', 'media', 'haunt', 'current', 'hundred', 'illegal', 'red', 'free', 'goods', 'agreement', 'erratic', 'beach', 'tell', 'decrease', 'emergency', 'port', 'better', 'back', 'mi', 'lot', 'board', 'arrive', 'sell', 'tireless', 'melon', 'yesterday', 'said', 'disaster', 'medical', 'convention', 'like', 'tackle', 'value', 'accord', 'year', 'locate', 'milder', 'patrol', 'increase', 'staff', 'supervision', 'southeast', 'first', 'exacerbate', 'short', 'fertile', 'debris', 'barry', 'hostel', 'resort', 'joint', 'party', 'add', 'ran', 'good', 'brave', 'spread', 'head', 'incidence', 'employ', 'structure', 'immigration', 'downy', 'rescue', 'flood', 'infrastructure', 'jam', 'force', 'mind', 'access', 'develop', 'st', 'underwater', 'gear', 'revenue', 'u', 'bottom', 'never', 'salt', 'exorbitant', 'yet', 'flash', 'baring', 'maybe', 'rain', 'indicate', 'everyone', 'know', 'straightforward', 'western', 'renovate', 'may', 'source', 'effective', 'include', 'oral', 'windfall', 'trend', 'peaceful', 'result', 'protein', 'construct', 'double', 'thank', 'energy', 'promise', 'village', 'state', 'cycle', 'among', 'tornado', 'particularly', 'several', 'supply', 'for', 'allay', 'dictate', 'hurricane', 'our', 'advice', 'arrest', 'capability', 'difficult', 'last', 'shelter', 'center', 'leave', 'situation', 'mountainous', 'da', 'already', 'personnel', 'beer', 'risk', 'graphics', 'high', 'tore', 'coal', 'collect', 'moment', 'assess', 'bar', 'f', 'income', 'management', 'god', 'learn', 'area', 'irrigation', 'geophysics', 'thou', 'litigation', 'palace', 'house', 'livelihood', 'paralytic', 'program', 'recession', 'tumbler', 'violent', 'understand', 'august', 'charge', 'ravage', 'call', 'important', 'eye', 'go', 'transitional', 'right', 'medium', 'forecast', 'mode', 'daddy', 'violate', 'destiny', 'highly', 'meet', 'dehydration', 'czar', 'intense', 'cut', 'l', 'draughts', 'longer', 'message', 'dispatch', 'assistance', 'talk', 'volcanic', 'court', 'panic', 'big', 'tested', 'province', 'cross', 'streets', 'stool', 'channel', 'dura', 'happiness', 'deadly', 'post', 'dramatically', 'even', 'due', 'status', 'saline', 'term', 'violence', 'especially', 'open', 'public', 'wife', 'could', 'imagine', 'security', 'soap', 'spend', 'event', 'phase', 'search', 'deploy', 'ask', 'seal', 'live', 'school', 'help', 'historical', 'presidential', 'poor', 'police', 'expect', 'base', 'much', 'service', 'allegedly', 'garage', 'embankment', 'science', 'wind', 'container', 'possible', 'towards', 'widen', 'x', 'militant', 'report', 'ratify', 'surveillance', 'threaten', 'unable', 'however', 'flee', 'majority', 'plain', 'thatch', 'time', 'ay', 'chile', 'fusion', 'since', 'rehabilitation', 'counter', 'support', 'gold', 'thermal', 'tin', 'suddenly', 'place', 'organization', 'financial', 'sequential', 'fight', 'convert', 'love', 'partner', 'clear', 'medicine', 'responsibility', 'sot', 'maize', 'visceral', 'something', 'network', 'prosecute', 'estimate', 'sandy', 'volunteer', 'power', 'sleep', 'hit', 'march', 'one', 'officer', 'see', 'night', 'satisfaction', 'strong', 'normally', 'miller', 'still', 'east', 'whose', 'major', 'strategy', 'zone', 'canada', 'cool', 'bouquet', 'independent', 'local', 'student', 'maximum', 'hurt', 'rue', 'sister', 'bed', 'launch', 'gulp', 'urge', 'abundance', 'was', 'fire', 'note', 'malady', 'ly', 'response', 'would', 'water', 'target', 'name', 'street', 'bijou', 'visit', 'powder', 'corn', 'landslide', 'growth', 'immediate', 'hard', 'going', 'play', 'storm', 'drive', 'did', 'stop', 'mud', 'currently', 'finish', 'fund', 'give', 'regional', 'round', 'season', 'environment', 'fully', 'cabman', 'my', 'committee', 'pa', 'although', 'drain', 'earthquake', 'end', 'together', 'data', 'quick', 'rice', 'plant', 're', 'mary', 'answer', 'kill', 'show', 'wheat', 'transport', 'delegation', 'peasant', 'deposit', 'minimum', 'directly', 'tent', 'group', 'malaise', 'close', 'council', 'available', 'tap', 'task', 'dedicate', 'please', 'beverage', 'break', 'younger', 'treatment', 'little', 'or', 'suffer', 'ensure', 'three', 'martin', 'operation', 'tongue', 'team', 'coupon', 'piece', 'livestock', 'sensitive', 'assist', 'many', 'establish', 'get', 'efficiency', 'food', 'logistician', 'enter', 'construction', 'capital', 'condition', 'four', 'new', 'milk', 'us', 'line', 'advance', 'economic', 'crater', 'beyond', 'recent', 'land', 'postal', 'added', 'faculty', 'nephew', 'child', 'near', 'ventilator', 'sheet', 'walk', 'publish', 'injectable', 'prepare', 'otherwise', 'serious', 'today', 'foot', 'na', 'pride', 'need', 'blow', 'cycling', 'say', 'coalition', 'calculate', 'clothe', 'world', 'dog', 'initial', 'injure', 'dust', 'fell', 'backwashing', 'river', 'prison', 'extremist', 'reporter', 'number', 'distribution', 'affect', 'colleague', 'cupcake'}\n",
    "query_features = {'even', 'call', 'signal', 'body', 'earthquake'}"
   ]
  },
  {
   "cell_type": "code",
   "execution_count": 14,
   "metadata": {},
   "outputs": [
    {
     "data": {
      "text/plain": [
       "766"
      ]
     },
     "execution_count": 14,
     "metadata": {},
     "output_type": "execute_result"
    }
   ],
   "source": [
    "len(model_features)"
   ]
  },
  {
   "cell_type": "code",
   "execution_count": null,
   "metadata": {},
   "outputs": [],
   "source": []
  }
 ],
 "metadata": {
  "kernelspec": {
   "display_name": "Python 3",
   "language": "python",
   "name": "python3"
  },
  "language_info": {
   "codemirror_mode": {
    "name": "ipython",
    "version": 3
   },
   "file_extension": ".py",
   "mimetype": "text/x-python",
   "name": "python",
   "nbconvert_exporter": "python",
   "pygments_lexer": "ipython3",
   "version": "3.7.4"
  }
 },
 "nbformat": 4,
 "nbformat_minor": 2
}
