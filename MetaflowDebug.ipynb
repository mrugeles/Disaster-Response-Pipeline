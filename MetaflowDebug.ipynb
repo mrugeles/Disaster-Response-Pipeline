{
 "cells": [
  {
   "cell_type": "code",
   "execution_count": 217,
   "metadata": {},
   "outputs": [],
   "source": [
    "from metaflow import Metaflow, Flow, Run, Step, Task, DataArtifact"
   ]
  },
  {
   "cell_type": "code",
   "execution_count": 218,
   "metadata": {},
   "outputs": [
    {
     "data": {
      "text/plain": [
       "[Flow('ModelFlow')]"
      ]
     },
     "execution_count": 218,
     "metadata": {},
     "output_type": "execute_result"
    }
   ],
   "source": [
    "Metaflow().flows"
   ]
  },
  {
   "cell_type": "code",
   "execution_count": 219,
   "metadata": {},
   "outputs": [],
   "source": [
    "flow = Metaflow()['ModelFlow']\n"
   ]
  },
  {
   "cell_type": "code",
   "execution_count": 220,
   "metadata": {},
   "outputs": [],
   "source": [
    "import pandas as pd\n",
    "from datetime import datetime, date, time, timedelta\n",
    "\n",
    "def to_datetime(str_date):\n",
    "    type(str_date)\n",
    "    if(str_date != None):\n",
    "        str_date = str_date.replace('T', ' ').replace('.%fZ', '')\n",
    "        return datetime.strptime(str_date, '%Y-%m-%d %H:%M:%S')\n",
    "    return None\n",
    "\n",
    "def duration(init_date, end_date):\n",
    "    if(end_date != None):\n",
    "        delta = end_date - init_date\n",
    "        return delta.total_seconds() / 60 / 60\n",
    "    return -1\n",
    "\n"
   ]
  },
  {
   "cell_type": "code",
   "execution_count": 221,
   "metadata": {},
   "outputs": [
    {
     "data": {
      "text/html": [
       "<div>\n",
       "<style scoped>\n",
       "    .dataframe tbody tr th:only-of-type {\n",
       "        vertical-align: middle;\n",
       "    }\n",
       "\n",
       "    .dataframe tbody tr th {\n",
       "        vertical-align: top;\n",
       "    }\n",
       "\n",
       "    .dataframe thead th {\n",
       "        text-align: right;\n",
       "    }\n",
       "</style>\n",
       "<table border=\"1\" class=\"dataframe\">\n",
       "  <thead>\n",
       "    <tr style=\"text-align: right;\">\n",
       "      <th></th>\n",
       "      <th>run_id</th>\n",
       "      <th>version_name</th>\n",
       "      <th>created_at</th>\n",
       "      <th>finished_at</th>\n",
       "      <th>run_duration</th>\n",
       "      <th>scores_mean</th>\n",
       "      <th>scores_std</th>\n",
       "    </tr>\n",
       "  </thead>\n",
       "  <tbody>\n",
       "    <tr>\n",
       "      <td>0</td>\n",
       "      <td>1581624955229034</td>\n",
       "      <td>sample_1000</td>\n",
       "      <td>2020-02-13 20:15:55</td>\n",
       "      <td>2020-02-13 20:17:37</td>\n",
       "      <td>0.028333</td>\n",
       "      <td>0.896741</td>\n",
       "      <td>0.153555</td>\n",
       "    </tr>\n",
       "    <tr>\n",
       "      <td>1</td>\n",
       "      <td>1581613732312297</td>\n",
       "      <td>sample_100</td>\n",
       "      <td>2020-02-13 17:08:52</td>\n",
       "      <td>2020-02-13 17:10:36</td>\n",
       "      <td>0.028889</td>\n",
       "      <td>0.882982</td>\n",
       "      <td>0.144704</td>\n",
       "    </tr>\n",
       "  </tbody>\n",
       "</table>\n",
       "</div>"
      ],
      "text/plain": [
       "             run_id version_name          created_at         finished_at  \\\n",
       "0  1581624955229034  sample_1000 2020-02-13 20:15:55 2020-02-13 20:17:37   \n",
       "1  1581613732312297   sample_100 2020-02-13 17:08:52 2020-02-13 17:10:36   \n",
       "\n",
       "   run_duration  scores_mean  scores_std  \n",
       "0      0.028333     0.896741    0.153555  \n",
       "1      0.028889     0.882982    0.144704  "
      ]
     },
     "execution_count": 221,
     "metadata": {},
     "output_type": "execute_result"
    }
   ],
   "source": [
    "flow_name = 'ModelFlow'\n",
    "flow = Metaflow()[flow_name]\n",
    "flow_runs = {}\n",
    "columns = ['run_id', 'version_name', 'created_at', 'finished_at', 'run_duration', 'scores_mean', 'scores_std']\n",
    "\n",
    "for idx, run in enumerate(list(flow)):\n",
    "    scores = run['build_model'].task.data.scores.T\n",
    "    scores_mean= scores.values[0].mean()\n",
    "    scores_std = scores.values[0].std()\n",
    "    \n",
    "    version_name = run['start'].task.data.version_name\n",
    "    created_at = to_datetime(run.created_at)\n",
    "    finished_at = to_datetime(run.finished_at)\n",
    "    run_duration = duration(created_at, finished_at)\n",
    "    \n",
    "    values = [run.id, version_name, created_at, finished_at, run_duration, scores_mean, scores_std]\n",
    "    flow_runs[idx] = values\n",
    "    \n",
    "flow_runs = pd.DataFrame.from_dict(flow_runs, orient='index', columns = columns)   \n",
    "flow_runs"
   ]
  },
  {
   "cell_type": "code",
   "execution_count": 222,
   "metadata": {},
   "outputs": [
    {
     "data": {
      "text/plain": [
       "[Step('ModelFlow/1581613732312297/end'),\n",
       " Step('ModelFlow/1581613732312297/save_model'),\n",
       " Step('ModelFlow/1581613732312297/build_model'),\n",
       " Step('ModelFlow/1581613732312297/normalize'),\n",
       " Step('ModelFlow/1581613732312297/clean_vector'),\n",
       " Step('ModelFlow/1581613732312297/vectorize'),\n",
       " Step('ModelFlow/1581613732312297/load_data'),\n",
       " Step('ModelFlow/1581613732312297/start')]"
      ]
     },
     "execution_count": 222,
     "metadata": {},
     "output_type": "execute_result"
    }
   ],
   "source": [
    "list(Run('ModelFlow/1581613732312297'))  "
   ]
  },
  {
   "cell_type": "code",
   "execution_count": null,
   "metadata": {},
   "outputs": [],
   "source": []
  }
 ],
 "metadata": {
  "kernelspec": {
   "display_name": "Python 3",
   "language": "python",
   "name": "python3"
  },
  "language_info": {
   "codemirror_mode": {
    "name": "ipython",
    "version": 3
   },
   "file_extension": ".py",
   "mimetype": "text/x-python",
   "name": "python",
   "nbconvert_exporter": "python",
   "pygments_lexer": "ipython3",
   "version": "3.7.4"
  }
 },
 "nbformat": 4,
 "nbformat_minor": 2
}
