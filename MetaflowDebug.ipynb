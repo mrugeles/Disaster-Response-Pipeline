{
 "cells": [
  {
   "cell_type": "code",
   "execution_count": 1,
   "metadata": {},
   "outputs": [],
   "source": [
    "from metaflow import Metaflow"
   ]
  },
  {
   "cell_type": "code",
   "execution_count": 2,
   "metadata": {},
   "outputs": [],
   "source": [
    "flow = Metaflow()['ModelFlow']"
   ]
  },
  {
   "cell_type": "code",
   "execution_count": 3,
   "metadata": {},
   "outputs": [],
   "source": [
    "run = flow.latest_run"
   ]
  },
  {
   "cell_type": "code",
   "execution_count": 4,
   "metadata": {},
   "outputs": [
    {
     "data": {
      "text/plain": [
       "[Step('ModelFlow/1580938847954579/pre_process'),\n",
       " Step('ModelFlow/1580938847954579/load_data'),\n",
       " Step('ModelFlow/1580938847954579/start')]"
      ]
     },
     "execution_count": 4,
     "metadata": {},
     "output_type": "execute_result"
    }
   ],
   "source": [
    "list(run)"
   ]
  },
  {
   "cell_type": "code",
   "execution_count": 5,
   "metadata": {},
   "outputs": [],
   "source": [
    "step = run['pre_process']"
   ]
  },
  {
   "cell_type": "code",
   "execution_count": 6,
   "metadata": {},
   "outputs": [
    {
     "data": {
      "text/plain": [
       "['_CHILD_CLASS',\n",
       " '_NAME',\n",
       " '__class__',\n",
       " '__contains__',\n",
       " '__delattr__',\n",
       " '__dict__',\n",
       " '__dir__',\n",
       " '__doc__',\n",
       " '__eq__',\n",
       " '__format__',\n",
       " '__ge__',\n",
       " '__getattribute__',\n",
       " '__getitem__',\n",
       " '__gt__',\n",
       " '__hash__',\n",
       " '__init__',\n",
       " '__init_subclass__',\n",
       " '__iter__',\n",
       " '__le__',\n",
       " '__lt__',\n",
       " '__module__',\n",
       " '__ne__',\n",
       " '__new__',\n",
       " '__reduce__',\n",
       " '__reduce_ex__',\n",
       " '__repr__',\n",
       " '__setattr__',\n",
       " '__sizeof__',\n",
       " '__str__',\n",
       " '__subclasshook__',\n",
       " '__weakref__',\n",
       " '_create_parents',\n",
       " '_created_at',\n",
       " '_filtered_children',\n",
       " '_get_child',\n",
       " '_get_object',\n",
       " '_iter_filter',\n",
       " '_metaflow',\n",
       " '_object',\n",
       " '_parent',\n",
       " '_tags',\n",
       " 'created_at',\n",
       " 'environment_info',\n",
       " 'finished_at',\n",
       " 'id',\n",
       " 'is_in_namespace',\n",
       " 'parent',\n",
       " 'path_components',\n",
       " 'pathspec',\n",
       " 'tags',\n",
       " 'task',\n",
       " 'tasks']"
      ]
     },
     "execution_count": 6,
     "metadata": {},
     "output_type": "execute_result"
    }
   ],
   "source": [
    "dir(step)"
   ]
  },
  {
   "cell_type": "code",
   "execution_count": 7,
   "metadata": {},
   "outputs": [
    {
     "data": {
      "text/plain": [
       "False"
      ]
     },
     "execution_count": 7,
     "metadata": {},
     "output_type": "execute_result"
    }
   ],
   "source": [
    "''''artifacts',\n",
    " 'code',\n",
    " 'created_at',\n",
    " 'data',\n",
    " 'environment_info',\n",
    " 'exception',\n",
    " 'finished',\n",
    " 'finished_at',\n",
    " 'id',\n",
    " 'index',\n",
    " 'is_in_namespace',\n",
    " 'metadata',\n",
    " 'metadata_dict',\n",
    " 'parent',\n",
    " 'path_components',\n",
    " 'pathspec',\n",
    " 'runtime_name',\n",
    " 'stderr',\n",
    " 'stdout',\n",
    " 'successful',\n",
    " 'tags'\n",
    "'''\n",
    "step.task.successful"
   ]
  }
 ],
 "metadata": {
  "kernelspec": {
   "display_name": "Python 3",
   "language": "python",
   "name": "python3"
  },
  "language_info": {
   "codemirror_mode": {
    "name": "ipython",
    "version": 3
   },
   "file_extension": ".py",
   "mimetype": "text/x-python",
   "name": "python",
   "nbconvert_exporter": "python",
   "pygments_lexer": "ipython3",
   "version": "3.7.4"
  }
 },
 "nbformat": 4,
 "nbformat_minor": 2
}
