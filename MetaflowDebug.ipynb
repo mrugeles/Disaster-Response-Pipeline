{
 "cells": [
  {
   "cell_type": "code",
   "execution_count": 6,
   "metadata": {},
   "outputs": [],
   "source": [
    "from metaflow import Metaflow, Flow, Run, Step, Task, DataArtifact"
   ]
  },
  {
   "cell_type": "code",
   "execution_count": 7,
   "metadata": {},
   "outputs": [
    {
     "data": {
      "text/plain": [
       "[Flow('ModelFlow')]"
      ]
     },
     "execution_count": 7,
     "metadata": {},
     "output_type": "execute_result"
    }
   ],
   "source": [
    "Metaflow().flows"
   ]
  },
  {
   "cell_type": "code",
   "execution_count": 8,
   "metadata": {},
   "outputs": [],
   "source": [
    "flow = Metaflow()['ModelFlow']\n"
   ]
  },
  {
   "cell_type": "code",
   "execution_count": 9,
   "metadata": {},
   "outputs": [],
   "source": [
    "import pandas as pd\n",
    "from datetime import datetime, date, time, timedelta\n",
    "\n",
    "def to_datetime(str_date):\n",
    "    type(str_date)\n",
    "    if(str_date != None):\n",
    "        str_date = str_date.replace('T', ' ').replace('.fZ', '')\n",
    "        return datetime.strptime(str_date, '%Y-%m-%d %H:%M:%S')\n",
    "    return None\n",
    "\n",
    "def duration(init_date, end_date):\n",
    "    if(end_date != None):\n",
    "        delta = end_date - init_date\n",
    "        return delta.total_seconds() / 60 / 60\n",
    "    return -1\n",
    "\n"
   ]
  },
  {
   "cell_type": "code",
   "execution_count": 11,
   "metadata": {},
   "outputs": [
    {
     "data": {
      "text/html": [
       "<div>\n",
       "<style scoped>\n",
       "    .dataframe tbody tr th:only-of-type {\n",
       "        vertical-align: middle;\n",
       "    }\n",
       "\n",
       "    .dataframe tbody tr th {\n",
       "        vertical-align: top;\n",
       "    }\n",
       "\n",
       "    .dataframe thead th {\n",
       "        text-align: right;\n",
       "    }\n",
       "</style>\n",
       "<table border=\"1\" class=\"dataframe\">\n",
       "  <thead>\n",
       "    <tr style=\"text-align: right;\">\n",
       "      <th></th>\n",
       "      <th>run_id</th>\n",
       "      <th>version_name</th>\n",
       "      <th>created_at</th>\n",
       "      <th>finished_at</th>\n",
       "      <th>run_duration</th>\n",
       "      <th>scores_mean</th>\n",
       "      <th>scores_std</th>\n",
       "    </tr>\n",
       "  </thead>\n",
       "  <tbody>\n",
       "    <tr>\n",
       "      <td>0</td>\n",
       "      <td>1581734961379775</td>\n",
       "      <td>sample_1%</td>\n",
       "      <td>2020-02-15 02:49:21</td>\n",
       "      <td>2020-02-15 04:35:55</td>\n",
       "      <td>1.776111</td>\n",
       "      <td>0.934574</td>\n",
       "      <td>0.057917</td>\n",
       "    </tr>\n",
       "    <tr>\n",
       "      <td>1</td>\n",
       "      <td>1581734723626575</td>\n",
       "      <td>sample_1%</td>\n",
       "      <td>2020-02-15 02:45:23</td>\n",
       "      <td>2020-02-15 02:46:06</td>\n",
       "      <td>0.011944</td>\n",
       "      <td>0.905300</td>\n",
       "      <td>0.139863</td>\n",
       "    </tr>\n",
       "    <tr>\n",
       "      <td>2</td>\n",
       "      <td>1581734470978840</td>\n",
       "      <td>sample_1%</td>\n",
       "      <td>2020-02-15 02:41:10</td>\n",
       "      <td>2020-02-15 02:43:38</td>\n",
       "      <td>0.041111</td>\n",
       "      <td>0.878445</td>\n",
       "      <td>0.126454</td>\n",
       "    </tr>\n",
       "    <tr>\n",
       "      <td>5</td>\n",
       "      <td>1581734070542262</td>\n",
       "      <td>sample_1%</td>\n",
       "      <td>2020-02-15 02:34:30</td>\n",
       "      <td>2020-02-15 02:35:20</td>\n",
       "      <td>0.013889</td>\n",
       "      <td>0.880806</td>\n",
       "      <td>0.146776</td>\n",
       "    </tr>\n",
       "    <tr>\n",
       "      <td>18</td>\n",
       "      <td>1581635431321592</td>\n",
       "      <td>sample_10%</td>\n",
       "      <td>2020-02-13 23:10:31</td>\n",
       "      <td>2020-02-13 23:12:06</td>\n",
       "      <td>0.026389</td>\n",
       "      <td>0.910607</td>\n",
       "      <td>0.101072</td>\n",
       "    </tr>\n",
       "  </tbody>\n",
       "</table>\n",
       "</div>"
      ],
      "text/plain": [
       "              run_id version_name          created_at         finished_at  \\\n",
       "0   1581734961379775    sample_1% 2020-02-15 02:49:21 2020-02-15 04:35:55   \n",
       "1   1581734723626575    sample_1% 2020-02-15 02:45:23 2020-02-15 02:46:06   \n",
       "2   1581734470978840    sample_1% 2020-02-15 02:41:10 2020-02-15 02:43:38   \n",
       "5   1581734070542262    sample_1% 2020-02-15 02:34:30 2020-02-15 02:35:20   \n",
       "18  1581635431321592   sample_10% 2020-02-13 23:10:31 2020-02-13 23:12:06   \n",
       "\n",
       "    run_duration  scores_mean  scores_std  \n",
       "0       1.776111     0.934574    0.057917  \n",
       "1       0.011944     0.905300    0.139863  \n",
       "2       0.041111     0.878445    0.126454  \n",
       "5       0.013889     0.880806    0.146776  \n",
       "18      0.026389     0.910607    0.101072  "
      ]
     },
     "execution_count": 11,
     "metadata": {},
     "output_type": "execute_result"
    }
   ],
   "source": [
    "flow_name = 'ModelFlow'\n",
    "flow = Metaflow()[flow_name]\n",
    "flow_runs = {}\n",
    "columns = ['run_id', 'version_name', 'created_at', 'finished_at', 'run_duration', 'scores_mean', 'scores_std']\n",
    "\n",
    "for idx, run in enumerate(list(flow)):\n",
    "    if(run.finished):\n",
    "        scores = run['build_model'].task.data.scores.T\n",
    "        scores_mean= scores.values[0].mean()\n",
    "        scores_std = scores.values[0].std()\n",
    "\n",
    "        version_name = run['start'].task.data.version_name\n",
    "        created_at = to_datetime(run.created_at)\n",
    "        finished_at = to_datetime(run.finished_at)\n",
    "        run_duration = duration(created_at, finished_at)\n",
    "\n",
    "        values = [run.id, version_name, created_at, finished_at, run_duration, scores_mean, scores_std]\n",
    "        flow_runs[idx] = values\n",
    "    \n",
    "flow_runs = pd.DataFrame.from_dict(flow_runs, orient='index', columns = columns)   \n",
    "flow_runs"
   ]
  },
  {
   "cell_type": "code",
   "execution_count": null,
   "metadata": {},
   "outputs": [],
   "source": []
  }
 ],
 "metadata": {
  "kernelspec": {
   "display_name": "Python 3",
   "language": "python",
   "name": "python3"
  },
  "language_info": {
   "codemirror_mode": {
    "name": "ipython",
    "version": 3
   },
   "file_extension": ".py",
   "mimetype": "text/x-python",
   "name": "python",
   "nbconvert_exporter": "python",
   "pygments_lexer": "ipython3",
   "version": "3.7.4"
  }
 },
 "nbformat": 4,
 "nbformat_minor": 2
}
